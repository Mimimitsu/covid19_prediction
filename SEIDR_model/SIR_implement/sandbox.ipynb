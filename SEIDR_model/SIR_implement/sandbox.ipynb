{
 "cells": [
  {
   "cell_type": "code",
   "execution_count": 2,
   "metadata": {},
   "outputs": [],
   "source": [
    "import datetime"
   ]
  },
  {
   "cell_type": "markdown",
   "metadata": {},
   "source": [
    "**strptime()** 将字符串转化为datetime类"
   ]
  },
  {
   "cell_type": "code",
   "execution_count": 5,
   "metadata": {},
   "outputs": [
    {
     "name": "stdout",
     "output_type": "stream",
     "text": [
      "2019-12-08 00:00:00\n",
      "<class 'datetime.datetime'>\n"
     ]
    }
   ],
   "source": [
    "time1 = datetime.datetime.strptime(\"2019-12-08\", \"%Y-%m-%d\")\n",
    "time2 = datetime.datetime.strptime(\"2020-5-22\", \"%Y-%m-%d\")\n",
    "print(time1)\n",
    "print(type(time1))"
   ]
  },
  {
   "cell_type": "code",
   "execution_count": 7,
   "metadata": {},
   "outputs": [
    {
     "name": "stdout",
     "output_type": "stream",
     "text": [
      "8\n",
      "-166 days, 0:00:00\n",
      "166\n"
     ]
    }
   ],
   "source": [
    "print(time1.day)\n",
    "print(time1 - time2)\n",
    "print((time2 - time1).days)"
   ]
  },
  {
   "cell_type": "code",
   "execution_count": 3,
   "metadata": {},
   "outputs": [
    {
     "name": "stdout",
     "output_type": "stream",
     "text": [
      "[datetime.datetime(2020, 1, 18, 0, 0), datetime.datetime(2020, 1, 22, 0, 0)]\n",
      "[41, 45]\n"
     ]
    }
   ],
   "source": [
    "startTime = datetime.datetime.strptime('2019-12-08', \"%Y-%m-%d\")\n",
    "estUsedTimeBox = [datetime.datetime.strptime('2020-01-18', \"%Y-%m-%d\"), datetime.datetime.strptime('2020-01-22', \"%Y-%m-%d\")]\n",
    "estUsedTimeIndexBox = [(t - startTime).days for t in estUsedTimeBox]\n",
    "print(estUsedTimeBox)\n",
    "print(estUsedTimeIndexBox)"
   ]
  },
  {
   "cell_type": "code",
   "execution_count": 10,
   "metadata": {},
   "outputs": [
    {
     "name": "stdout",
     "output_type": "stream",
     "text": [
      "[0, 1, 2, 3, 4, 5, 6, 7, 8, 9]\n"
     ]
    }
   ],
   "source": [
    "s = [t for t in range(10)]\n",
    "print(s)"
   ]
  },
  {
   "cell_type": "code",
   "execution_count": 12,
   "metadata": {},
   "outputs": [
    {
     "name": "stderr",
     "output_type": "stream",
     "text": [
      "d:\\Applications\\Pyrhon37\\lib\\site-packages\\numpy\\core\\shape_base.py:65: VisibleDeprecationWarning: Creating an ndarray from ragged nested sequences (which is a list-or-tuple of lists-or-tuples-or ndarrays with different lengths or shapes) is deprecated. If you meant to do this, you must specify 'dtype=object' when creating the ndarray.\n",
      "  ary = asanyarray(ary)\n"
     ]
    },
    {
     "data": {
      "text/plain": [
       "[<matplotlib.lines.Line2D at 0x28693999dc8>]"
      ]
     },
     "execution_count": 12,
     "metadata": {},
     "output_type": "execute_result"
    },
    {
     "data": {
      "image/png": "[encoded data removed]",
      "text/plain": [
       "<Figure size 432x288 with 1 Axes>"
      ]
     },
     "metadata": {
      "needs_background": "light"
     },
     "output_type": "display_data"
    }
   ],
   "source": [
    "import numpy as np\n",
    "import pandas as pd\n",
    "import matplotlib.pyplot as plt\n",
    "import scipy.optimize as opt\n",
    "def y(x):\n",
    "    return np.exp(np.sin(-x))\n",
    "def cons(x):\n",
    "    return x*np.exp(x)\n",
    "a=np.linspace(-6,3,100)\n",
    "b=y(a)\n",
    "plt.plot(a,b)\n",
    "xi=[np.array(-np.pi/2+1)]\n",
    "res=opt.minimize(y,x0=xi[0],callback=xi.append,constraints=({'type':'ineq','fun':cons}))\n",
    "plt.plot(xi[:],[y(xi[i]) for i in range(len(xi))],'o-')"
   ]
  },
  {
   "cell_type": "markdown",
   "metadata": {},
   "source": [
    "**N** -- 总人口数\n",
    "\n",
    "**S** -- 易感人群\n",
    "\n",
    "**E** -- 潜伏期人群\n",
    "\n",
    "**I** -- 感人人群\n",
    "\n",
    "**R** -- 恢复人群\n",
    "\n",
    "--------------------------\n",
    "**r** -- 感染者接触的人数\n",
    "\n",
    "**$\\beta$** -- 传染率\n",
    "\n",
    "**a** -- 潜伏者转化为感染者的概率, 估计为已知的平均潜伏期的倒数\n",
    "\n",
    "**$\\gamma$** -- 感染者康复的概率, 可以由平均的康复期D的倒数决定"
   ]
  },
  {
   "cell_type": "code",
   "execution_count": 11,
   "metadata": {},
   "outputs": [
    {
     "name": "stdout",
     "output_type": "stream",
     "text": [
      "<class 'numpy.int32'>\n",
      "<class 'int'>\n",
      "[45 46 47 48 49 50 51 52 53 54 55 56 57 58 59 60 61 62 63 64 65 66 67 68\n",
      " 69 70 71 72 73 74 75 76 77 78 79 80 81 82 83 84 85 86 87 88 89 90 91 92\n",
      " 93 94 95 96 97 98 99]\n",
      "45\n",
      "[45, 99]\n"
     ]
    }
   ],
   "source": [
    "import numpy as np\n",
    "import datetime\n",
    "startTime = datetime.datetime.strptime('2019-12-08', \"%Y-%m-%d\")\n",
    "estUsedTimeBox = [datetime.datetime.strptime('2020-01-22', \"%Y-%m-%d\"), datetime.datetime.strptime('2020-03-16', \"%Y-%m-%d\")]\n",
    "estUsedTimeIndexBox = [(t - startTime).days for t in estUsedTimeBox]\n",
    "timeRange = np.array([i for i in range(estUsedTimeIndexBox[0], estUsedTimeIndexBox[1] + 1)])\n",
    "dataStartTimeStep = estUsedTimeIndexBox[0]\n",
    "print(type(timeRange[1]))\n",
    "print(type(dataStartTimeStep))\n",
    "print(timeRange)\n",
    "print(dataStartTimeStep)\n",
    "print(estUsedTimeIndexBox)"
   ]
  }
 ],
 "metadata": {
  "kernelspec": {
   "display_name": "Python 3.7.8 64-bit",
   "language": "python",
   "name": "python3"
  },
  "language_info": {
   "codemirror_mode": {
    "name": "ipython",
    "version": 3
   },
   "file_extension": ".py",
   "mimetype": "text/x-python",
   "name": "python",
   "nbconvert_exporter": "python",
   "pygments_lexer": "ipython3",
   "version": "3.7.8"
  },
  "orig_nbformat": 4,
  "vscode": {
   "interpreter": {
    "hash": "d0f885e227eba6dac5b86c1e8f6f4c7e0abde2b199d34d60382754998189d096"
   }
  }
 },
 "nbformat": 4,
 "nbformat_minor": 2
}
